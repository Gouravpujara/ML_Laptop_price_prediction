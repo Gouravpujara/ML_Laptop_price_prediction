
# real state pridection
import pandas as pd
housing=pd.read_csv("Book1.csv")
housing.head()
CRIM	ZN	INDUS	CHAS	NOX	RM	AGE	DIS	RAD	TAX	PTRATIO	B	LSTAT	MEDV
0	0.02731	0.0	7.07	0	0.469	6.421	78.9	4.9671	2	242	17.8	396.90	9.14	21.6
1	0.02729	0.0	7.07	0	0.469	7.185	61.1	4.9671	2	242	17.8	392.83	4.03	34.7
2	0.03237	0.0	2.18	0	0.458	6.998	45.8	6.0622	3	222	18.7	394.63	2.94	33.4
3	0.06905	0.0	2.18	0	0.458	7.147	54.2	6.0622	3	222	18.7	396.90	5.33	36.2
4	0.02985	0.0	2.18	0	0.458	6.430	58.7	6.0622	3	222	18.7	394.12	5.21	28.7
housing.info()
<class 'pandas.core.frame.DataFrame'>
RangeIndex: 505 entries, 0 to 504
Data columns (total 14 columns):
 #   Column   Non-Null Count  Dtype  
---  ------   --------------  -----  
 0   CRIM     505 non-null    float64
 1   ZN       505 non-null    float64
 2   INDUS    505 non-null    float64
 3   CHAS     505 non-null    int64  
 4   NOX      505 non-null    float64
 5   RM       505 non-null    float64
 6   AGE      505 non-null    float64
 7   DIS      505 non-null    float64
 8   RAD      505 non-null    int64  
 9   TAX      505 non-null    int64  
 10  PTRATIO  505 non-null    float64
 11  B        505 non-null    float64
 12  LSTAT    505 non-null    float64
 13  MEDV     505 non-null    float64
dtypes: float64(11), int64(3)
memory usage: 55.4 KB
housing['CHAS'].value_counts()
0    470
1     35
Name: CHAS, dtype: int64
housing.describe()
CRIM	ZN	INDUS	CHAS	NOX	RM	AGE	DIS	RAD	TAX	PTRATIO	B	LSTAT	MEDV
count	505.000000	505.000000	505.000000	505.000000	505.000000	505.000000	505.000000	505.000000	505.000000	505.000000	505.000000	505.000000	505.000000	505.000000
mean	3.620667	11.350495	11.154257	0.069307	0.554728	6.284059	68.581584	3.794459	9.566337	408.459406	18.461782	356.594376	12.668257	22.529901
std	8.608572	23.343704	6.855868	0.254227	0.115990	0.703195	28.176371	2.107757	8.707553	168.629992	2.162520	91.367787	7.139950	9.205991
min	0.009060	0.000000	0.460000	0.000000	0.385000	3.561000	2.900000	1.129600	1.000000	187.000000	12.600000	0.320000	1.730000	5.000000
25%	0.082210	0.000000	5.190000	0.000000	0.449000	5.885000	45.000000	2.100000	4.000000	279.000000	17.400000	375.330000	7.010000	17.000000
50%	0.259150	0.000000	9.690000	0.000000	0.538000	6.208000	77.700000	3.199200	5.000000	330.000000	19.100000	391.430000	11.380000	21.200000
75%	3.678220	12.500000	18.100000	0.000000	0.624000	6.625000	94.100000	5.211900	24.000000	666.000000	20.200000	396.210000	16.960000	25.000000
max	88.976200	100.000000	27.740000	1.000000	0.871000	8.780000	100.000000	12.126500	24.000000	711.000000	22.000000	396.900000	37.970000	50.000000
%matplotlib inline
import matplotlib.pyplot as plt
housing.hist(bins=50,figsize=(20,15))
array([[<AxesSubplot:title={'center':'CRIM'}>,
        <AxesSubplot:title={'center':'ZN'}>,
        <AxesSubplot:title={'center':'INDUS'}>,
        <AxesSubplot:title={'center':'CHAS'}>],
       [<AxesSubplot:title={'center':'NOX'}>,
        <AxesSubplot:title={'center':'RM'}>,
        <AxesSubplot:title={'center':'AGE'}>,
        <AxesSubplot:title={'center':'DIS'}>],
       [<AxesSubplot:title={'center':'RAD'}>,
        <AxesSubplot:title={'center':'TAX'}>,
        <AxesSubplot:title={'center':'PTRATIO'}>,
        <AxesSubplot:title={'center':'B'}>],
       [<AxesSubplot:title={'center':'LSTAT'}>,
        <AxesSubplot:title={'center':'MEDV'}>, <AxesSubplot:>,
        <AxesSubplot:>]], dtype=object)

Test data=20% and Train data=80%
import numpy as np
def split_train_test(data,test_ratio):
    np.random.seed(42)
    shuffled=np.random.permutation(len(data))
    test_set_size=int(len(data)*test_ratio)
    test_indices=shuffled[:test_set_size]
    train_indices=shuffled[test_set_size:]
    return data.iloc[train_indices],data.iloc[test_indices]
train_set,test_set=split_train_test(housing,0.2)
print(f"row in train set:{len(train_set)} and row in test :{len(test_set)}")
row in train set:404 and row in test :101
from sklearn.model_selection import StratifiedShuffleSplit
split=StratifiedShuffleSplit(n_splits=1,test_size=0.2,random_state=42)
for train_index,test_index in split.split(housing,housing['CHAS']):
    strat_train_set=housing.loc[train_index]
    strat_test_set=housing.loc[test_index]
strat_test_set['CHAS'].value_counts()
0    94
1     7
Name: CHAS, dtype: int64
#looking for correlation

corr_matrix=housing.corr() 
corr_matrix['MEDV'].sort_values(ascending=False)
MEDV       1.000000
RM         0.695365
ZN         0.360393
B          0.333394
DIS        0.249896
CHAS       0.175364
AGE       -0.376932
RAD       -0.381690
CRIM      -0.388249
NOX       -0.427295
TAX       -0.468543
INDUS     -0.484126
PTRATIO   -0.508411
LSTAT     -0.738187
Name: MEDV, dtype: float64
from pandas.plotting import scatter_matrix
attributes=["MEDV","RM","ZN","LSTAT"]
scatter_matrix(housing[attributes],figsize=(12,8))
array([[<AxesSubplot:xlabel='MEDV', ylabel='MEDV'>,
        <AxesSubplot:xlabel='RM', ylabel='MEDV'>,
        <AxesSubplot:xlabel='ZN', ylabel='MEDV'>,
        <AxesSubplot:xlabel='LSTAT', ylabel='MEDV'>],
       [<AxesSubplot:xlabel='MEDV', ylabel='RM'>,
        <AxesSubplot:xlabel='RM', ylabel='RM'>,
        <AxesSubplot:xlabel='ZN', ylabel='RM'>,
        <AxesSubplot:xlabel='LSTAT', ylabel='RM'>],
       [<AxesSubplot:xlabel='MEDV', ylabel='ZN'>,
        <AxesSubplot:xlabel='RM', ylabel='ZN'>,
        <AxesSubplot:xlabel='ZN', ylabel='ZN'>,
        <AxesSubplot:xlabel='LSTAT', ylabel='ZN'>],
       [<AxesSubplot:xlabel='MEDV', ylabel='LSTAT'>,
        <AxesSubplot:xlabel='RM', ylabel='LSTAT'>,
        <AxesSubplot:xlabel='ZN', ylabel='LSTAT'>,
        <AxesSubplot:xlabel='LSTAT', ylabel='LSTAT'>]], dtype=object)

housing.plot(kind="scatter",x="RM",y="MEDV",alpha=0.8)
<AxesSubplot:xlabel='RM', ylabel='MEDV'>

#atrribute combination trying
housing["TAXRM"]=housing["TAX"]/housing["RM"]
housing.head()
CRIM	ZN	INDUS	CHAS	NOX	RM	AGE	DIS	RAD	TAX	PTRATIO	B	LSTAT	MEDV	TAXRM
0	0.02731	0.0	7.07	0	0.469	6.421	78.9	4.9671	2	242	17.8	396.90	9.14	21.6	37.688834
1	0.02729	0.0	7.07	0	0.469	7.185	61.1	4.9671	2	242	17.8	392.83	4.03	34.7	33.681280
2	0.03237	0.0	2.18	0	0.458	6.998	45.8	6.0622	3	222	18.7	394.63	2.94	33.4	31.723350
3	0.06905	0.0	2.18	0	0.458	7.147	54.2	6.0622	3	222	18.7	396.90	5.33	36.2	31.061984
4	0.02985	0.0	2.18	0	0.458	6.430	58.7	6.0622	3	222	18.7	394.12	5.21	28.7	34.525661housing.plot(kind="scatter",x="TAXRM",y="MEDV",alpha=0.8 )
corr_matrix=housing.corr()
corr_matrix['MEDV'].sort_values(ascending=False)
MEDV       1.000000
RM         0.695365
ZN         0.360393
B          0.333394
DIS        0.249896
CHAS       0.175364
AGE       -0.376932
RAD       -0.381690
CRIM      -0.388249
NOX       -0.427295
TAX       -0.468543
INDUS     -0.484126
PTRATIO   -0.508411
TAXRM     -0.537700
LSTAT     -0.738187
Name: MEDV, dtype: float64
housing.plot(kind="scatter",x="TAXRM",y="MEDV",alpha=0.8 )
<AxesSubplot:xlabel='TAXRM', ylabel='MEDV'>

# creating a pipeline
from sklearn.pipeline import Pipeline
from sklearn.impute import SimpleImputer
from sklearn.preprocessing import StandardScaler
my_pipeline =Pipeline([('imputer',SimpleImputer(strategy="median")),('std_scaler',StandardScaler()),])
housing=strat_train_set.drop("MEDV",axis=1)#label and housing alag
housing_labels=strat_train_set["MEDV"].copy()
housing_num=my_pipeline.fit_transform(housing)
housing_num  #output is numpy because predictor take input of numpy
array([[-0.44241248,  3.18716752, -1.12581552, ..., -0.99428207,
         0.43852974, -0.49833679],
       [-0.44320015,  1.36098896, -1.47680838, ...,  0.56613801,
         0.38242047, -0.96561983],
       [ 1.3766227 , -0.46518961,  0.99776471, ...,  0.80256529,
        -0.04255723,  1.67953595],
       ...,
       [-0.43839281, -0.46518961, -1.23595972, ..., -0.23771476,
         0.4566363 , -0.92389813],
       [ 0.11992217, -0.46518961,  0.99776471, ...,  0.80256529,
        -3.61123302,  0.85900919],
       [-0.44118424, -0.46518961,  0.37948858, ..., -0.99428207,
         0.41347532,  0.09411135]])
#selecting desire model
from sklearn.linear_model import LinearRegression
model=LinearRegression()
model.fit(housing_num,housing_labels)
LinearRegression()
some_data=housing.iloc[:5]
some_labels=housing_labels.iloc[:5]
prepared_data=my_pipeline.transform(some_data)
model.predict(prepared_data)
array([21.82657796, 22.06671044, 12.12688689, 23.21343568, 19.24133863])
list(some_labels)
[20.9, 26.6, 12.0, 20.4, 22.2]
#evaluating the model
from sklearn.metrics import mean_squared_error
housing_predictions=model.predict(housing_num)
lin_mse=mean_squared_error(housing_labels,housing_predictions)
lin_rmse=np.sqrt(lin_mse)
lin_rmse
4.7204955531884805
def print_scores(scores):
    print("Scores:",scores)
    print("Mean: ",scores.mean())
    print("stand:",scores.std())
    
print_scores(lin_rmse)
type(lin_rmse)
Scores: 4.7204955531884805
Mean:  4.7204955531884805
stand: 0.0
numpy.float64
from joblib import dump,load
dump(model,'Gourav')
['Gourav']
testing
x_test=strat_test_set.drop("MEDV",axis=1)
y_test=strat_test_set["MEDV"].copy()
x_test_prepared =my_pipeline.transform(x_test)
final_predictions=model.predict(x_test_prepared)
final_mse=mean_squared_error(y_test,final_predictions)
final_rmse=np.sqrt(final_mse)
print(list(final_predictions))
print("\n")
print(list(y_test))
[29.67675445461378, 27.40206833611373, 38.31958460378733, 31.064689931375753, 40.6333018340372, 35.7995208113081, 21.54164621009446, 25.16795728554537, 34.60454831826125, 25.840910453315203, 15.796293125489257, 25.944232458125835, 31.07115655104735, 29.56476455711945, 19.62929672647921, 17.466509605697667, 17.26341960937437, 24.106928470438746, 27.693928783435137, 20.295240760537695, 17.631867538102167, 37.10023403139954, 18.746601523966014, 17.924570617535785, 24.50038622585518, 33.91082825025028, 18.761094629540167, 12.058788874837697, 6.962889565451285, 22.84055380433714, 27.45821053142481, 21.777953521809625, 24.088107049319763, 17.21887926140145, 27.384358319652154, 18.765175551786907, 23.247150617802475, 17.188263158521963, 42.724511480431744, 9.17996184263662, 26.818349947195237, 20.94069654257772, 14.862239163803466, 16.881302089556762, 30.46562398138117, 3.5327661474804017, 30.095232516702836, 14.103659479496516, 19.554089893121077, 21.010087783331723, 40.32990499436748, 29.31589310608559, 20.46735696077746, 20.27800489026406, 20.541526199819497, 37.919535753507176, 30.904121479018503, 19.72810043979145, 36.16691693529678, 18.36894738983991, 25.265894372340725, 34.30936392409126, 32.64212142338727, 28.414532457453877, 20.630323777356644, 27.11665952850759, 23.981150605838277, 13.421496317352261, 31.411080983272186, 34.39852100590274, 29.228003254987424, 33.625999869227115, 19.91577433056712, 32.38684692538224, 3.0354292444138053, 19.771631080167666, 37.31544983724906, 20.29620008773609, 20.023646604601186, 13.611569252731147, 35.6567282218148, 9.515884858103913, 30.994597891136124, 24.786334886954684, 28.108857098115603, 18.502627885353064, 24.685732637051302, 22.45814760267678, 21.583816459311755, 15.661590487433733, 27.468705060292546, 9.999986695429314, 33.91878593733802, 12.37992046141083, 28.97226843966201, 19.13977179263628, 30.769369986871848, 17.13850229787652, 24.28922521726937, 22.67115007956982, 23.59317767203312]


[24.6, 22.0, 44.8, 23.6, 48.8, 36.5, 19.7, 23.1, 34.6, 21.5, 23.1, 15.0, 23.0, 34.9, 18.5, 10.4, 10.2, 18.9, 23.9, 19.3, 19.4, 48.3, 10.9, 19.6, 27.5, 37.3, 16.1, 15.2, 10.5, 21.4, 23.2, 20.7, 21.7, 13.0, 22.3, 19.6, 21.2, 18.1, 50.0, 23.7, 22.6, 20.5, 18.9, 19.5, 32.7, 8.8, 29.1, 19.0, 22.6, 21.2, 50.0, 22.5, 17.8, 20.3, 20.4, 37.6, 35.4, 18.2, 33.3, 12.1, 23.1, 37.9, 36.1, 23.7, 13.1, 23.8, 19.6, 13.1, 27.9, 27.0, 22.9, 31.7, 17.1, 30.3, 8.1, 19.6, 44.0, 19.5, 18.5, 17.2, 35.2, 8.3, 34.7, 20.5, 23.7, 14.2, 22.8, 20.6, 19.6, 15.2, 23.9, 6.3, 32.0, 13.4, 22.0, 19.9, 28.7, 19.1, 23.4, 11.9, 21.7]
final_rmse
4.672489061667421
 
